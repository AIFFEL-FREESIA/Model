{
 "cells": [
  {
   "cell_type": "code",
   "execution_count": 16,
   "metadata": {
    "execution": {
     "iopub.execute_input": "2021-06-14T06:18:09.594709Z",
     "iopub.status.busy": "2021-06-14T06:18:09.594448Z",
     "iopub.status.idle": "2021-06-14T06:18:09.603831Z",
     "shell.execute_reply": "2021-06-14T06:18:09.603244Z",
     "shell.execute_reply.started": "2021-06-14T06:18:09.594677Z"
    },
    "tags": []
   },
   "outputs": [
    {
     "name": "stdout",
     "output_type": "stream",
     "text": [
      "env: SM_FRAMEWORK=tf.keras\n"
     ]
    }
   ],
   "source": [
    "import os\n",
    "os.environ['CUDA_VISIBLE_DEVICES'] = '0'\n",
    "\n",
    "import math\n",
    "import numpy as np\n",
    "import tensorflow as tf\n",
    "import keras\n",
    "import h5py\n",
    "from pathlib import Path\n",
    "\n",
    "from tensorflow.keras.layers import Input, Dense\n",
    "from tensorflow.keras.models import Model\n",
    "\n",
    "import matplotlib.pyplot as plt\n",
    "import cv2\n",
    "import math\n",
    "from tqdm import tqdm\n",
    "\n",
    "%env SM_FRAMEWORK=tf.keras\n",
    "import segmentation_models as sm\n",
    "import albumentations as A\n",
    "\n",
    "import seaborn as sns\n",
    "sns.set(style='white')\n",
    "sns.set_context('paper')"
   ]
  },
  {
   "cell_type": "code",
   "execution_count": 15,
   "metadata": {
    "execution": {
     "iopub.execute_input": "2021-06-14T06:17:39.203283Z",
     "iopub.status.busy": "2021-06-14T06:17:39.203056Z",
     "iopub.status.idle": "2021-06-14T06:17:39.208541Z",
     "shell.execute_reply": "2021-06-14T06:17:39.207877Z",
     "shell.execute_reply.started": "2021-06-14T06:17:39.203257Z"
    },
    "tags": []
   },
   "outputs": [
    {
     "name": "stdout",
     "output_type": "stream",
     "text": [
      "1 Physical GPUs, 1 Logical GPUs\n",
      "\n",
      "\n"
     ]
    }
   ],
   "source": [
    "import tensorflow as tf\n",
    "def init_gpu():\n",
    "    gpus = tf.config.experimental.list_physical_devices('GPU')\n",
    "    if gpus:\n",
    "        try:\n",
    "            # Currently, memory growth needs to be the same across GPUs\n",
    "            for gpu in gpus:\n",
    "                tf.config.experimental.set_memory_growth(gpu, True)\n",
    "            logical_gpus = tf.config.experimental.list_logical_devices('GPU')\n",
    "\n",
    "            print(len(gpus), \"Physical GPUs,\", len(logical_gpus), \"Logical GPUs\\n\\n\")\n",
    "        except RuntimeError as e:\n",
    "            # Memory growth must be set before GPUs have been initialized\n",
    "            print(e, \"\\n\\n\")\n",
    "\n",
    "init_gpu()"
   ]
  },
  {
   "cell_type": "markdown",
   "metadata": {},
   "source": [
    "## Segmentation_model"
   ]
  },
  {
   "cell_type": "code",
   "execution_count": 17,
   "metadata": {
    "execution": {
     "iopub.execute_input": "2021-06-14T06:18:12.067356Z",
     "iopub.status.busy": "2021-06-14T06:18:12.067163Z",
     "iopub.status.idle": "2021-06-14T06:18:18.622166Z",
     "shell.execute_reply": "2021-06-14T06:18:18.621555Z",
     "shell.execute_reply.started": "2021-06-14T06:18:12.067333Z"
    },
    "tags": []
   },
   "outputs": [],
   "source": [
    "BACKBONE = 'efficientnetb3'\n",
    "n_classes = 1\n",
    "activation = 'sigmoid'\n",
    "model_1 = sm.Unet(BACKBONE, classes=n_classes, activation=activation)\n",
    "model_1.load_weights('/home/aiffel-dj1/workspace/Hackerton/workspace/Model/trained_model/E16/E16_1_best_model.h5')\n",
    "model_1.trainable = False\n",
    "\n",
    "model_2 = sm.Unet(BACKBONE, classes=n_classes, input_shape=(None,None,4), activation=activation, encoder_weights=None)\n",
    "model_2.load_weights('/home/aiffel-dj1/workspace/Hackerton/workspace/Model/trained_model/E11/E11_4_best_model.h5')\n",
    "model_2.trainable = False\n",
    "\n",
    "model_1._name='Unet_Building_Seg'\n",
    "model_1_wrapper = tf.keras.Sequential([\n",
    "  model_1\n",
    "])\n",
    "\n",
    "model_2._name='Unet_Road_Seg'\n",
    "model_2_wrapper = tf.keras.Sequential([\n",
    "  model_2\n",
    "])\n",
    "\n",
    "combined = tf.keras.layers.concatenate([model_1_wrapper.output, model_2_wrapper.output])\n",
    "z = Dense(2)(combined)\n",
    "model = Model(inputs=[model_1_wrapper.input, model_2_wrapper.input], outputs=z)"
   ]
  },
  {
   "cell_type": "code",
   "execution_count": 18,
   "metadata": {
    "execution": {
     "iopub.execute_input": "2021-06-14T06:18:20.529273Z",
     "iopub.status.busy": "2021-06-14T06:18:20.529071Z",
     "iopub.status.idle": "2021-06-14T06:18:20.577123Z",
     "shell.execute_reply": "2021-06-14T06:18:20.576665Z",
     "shell.execute_reply.started": "2021-06-14T06:18:20.529249Z"
    },
    "tags": []
   },
   "outputs": [
    {
     "name": "stdout",
     "output_type": "stream",
     "text": [
      "Model: \"model_6\"\n",
      "__________________________________________________________________________________________________\n",
      "Layer (type)                    Output Shape         Param #     Connected to                     \n",
      "==================================================================================================\n",
      "Unet_Building_Seg_input (InputL [(None, None, None,  0                                            \n",
      "__________________________________________________________________________________________________\n",
      "Unet_Road_Seg_input (InputLayer [(None, None, None,  0                                            \n",
      "__________________________________________________________________________________________________\n",
      "Unet_Building_Seg (Functional)  (None, None, None, 1 17867833    Unet_Building_Seg_input[0][0]    \n",
      "__________________________________________________________________________________________________\n",
      "Unet_Road_Seg (Functional)      (None, None, None, 1 17868193    Unet_Road_Seg_input[0][0]        \n",
      "__________________________________________________________________________________________________\n",
      "concatenate_2 (Concatenate)     (None, None, None, 2 0           Unet_Building_Seg[0][0]          \n",
      "                                                                 Unet_Road_Seg[0][0]              \n",
      "__________________________________________________________________________________________________\n",
      "dense_1 (Dense)                 (None, None, None, 2 6           concatenate_2[0][0]              \n",
      "==================================================================================================\n",
      "Total params: 35,736,032\n",
      "Trainable params: 6\n",
      "Non-trainable params: 35,736,026\n",
      "__________________________________________________________________________________________________\n"
     ]
    }
   ],
   "source": [
    "dice_loss = sm.losses.DiceLoss()\n",
    "focal_loss = sm.losses.BinaryFocalLoss() if n_classes == 1 else sm.losses.CategoricalFocalLoss()\n",
    "total_loss = dice_loss + (1 * focal_loss)\n",
    "metrics = [sm.metrics.IOUScore(threshold=0.5), sm.metrics.FScore(threshold=0.5)]\n",
    "\n",
    "model.compile(optimizer=tf.keras.optimizers.Adam(lr=1e-4),\n",
    "              loss=total_loss,\n",
    "              metrics=metrics)\n",
    "  \n",
    "model.summary()"
   ]
  },
  {
   "cell_type": "code",
   "execution_count": 19,
   "metadata": {
    "execution": {
     "iopub.execute_input": "2021-06-14T06:18:25.811588Z",
     "iopub.status.busy": "2021-06-14T06:18:25.811338Z",
     "iopub.status.idle": "2021-06-14T06:18:25.817957Z",
     "shell.execute_reply": "2021-06-14T06:18:25.817326Z",
     "shell.execute_reply.started": "2021-06-14T06:18:25.811558Z"
    },
    "tags": []
   },
   "outputs": [
    {
     "data": {
      "text/plain": [
       "[(None, None, None, 3), (None, None, None, 4)]"
      ]
     },
     "execution_count": 19,
     "metadata": {},
     "output_type": "execute_result"
    }
   ],
   "source": [
    "model.input_shape"
   ]
  },
  {
   "cell_type": "markdown",
   "metadata": {
    "execution": {
     "iopub.execute_input": "2021-06-14T05:46:57.804952Z",
     "iopub.status.busy": "2021-06-14T05:46:57.804776Z",
     "iopub.status.idle": "2021-06-14T05:46:57.808220Z",
     "shell.execute_reply": "2021-06-14T05:46:57.807757Z",
     "shell.execute_reply.started": "2021-06-14T05:46:57.804930Z"
    },
    "tags": []
   },
   "source": [
    "### Dataset"
   ]
  },
  {
   "cell_type": "code",
   "execution_count": 20,
   "metadata": {
    "execution": {
     "iopub.execute_input": "2021-06-14T06:18:30.116163Z",
     "iopub.status.busy": "2021-06-14T06:18:30.115971Z",
     "iopub.status.idle": "2021-06-14T06:18:30.120792Z",
     "shell.execute_reply": "2021-06-14T06:18:30.120173Z",
     "shell.execute_reply.started": "2021-06-14T06:18:30.116140Z"
    },
    "tags": []
   },
   "outputs": [],
   "source": [
    "def round_clip_0_1(x, **kwargs):\n",
    "    return x.round().clip(0, 1)\n",
    "\n",
    "def get_training_augmentation():\n",
    "    train_transform = [\n",
    "        A.RandomRotate90(p=0.5),\n",
    "        A.RandomRotate90(p=0.5),\n",
    "        A.RandomRotate90(p=0.5),\n",
    "        A.Lambda(mask=round_clip_0_1)\n",
    "    ]\n",
    "    return A.Compose(train_transform)\n",
    "\n",
    "\n",
    "def get_validation_augmentation():\n",
    "    \"\"\"Add paddings to make image shape divisible by 32\"\"\"\n",
    "    test_transform = [\n",
    "        A.Lambda(mask=round_clip_0_1)\n",
    "    ]\n",
    "    return A.Compose(test_transform)\n",
    "\n",
    "def get_preprocessing(preprocessing_fn):\n",
    "    \"\"\"Construct preprocessing transform\n",
    "    \n",
    "    Args:\n",
    "        preprocessing_fn (callbale): data normalization function \n",
    "            (can be specific for each pretrained neural network)\n",
    "    Return:\n",
    "        transform: albumentations.Compose\n",
    "    \n",
    "    \"\"\"\n",
    "    _transform = [\n",
    "        A.Lambda(image=preprocessing_fn),\n",
    "    ]\n",
    "    return A.Compose(_transform)"
   ]
  },
  {
   "cell_type": "code",
   "execution_count": 6,
   "metadata": {
    "execution": {
     "iopub.execute_input": "2021-06-14T05:52:52.536482Z",
     "iopub.status.busy": "2021-06-14T05:52:52.536284Z",
     "iopub.status.idle": "2021-06-14T05:52:52.544979Z",
     "shell.execute_reply": "2021-06-14T05:52:52.544473Z",
     "shell.execute_reply.started": "2021-06-14T05:52:52.536459Z"
    },
    "tags": []
   },
   "outputs": [],
   "source": [
    "class SatelliteGenerator(tf.keras.utils.Sequence):\n",
    "    '''\n",
    "    ref: https://github.com/AIFFEL-FREESIA/Model/blob/master/Unet_building_256_2.ipynb\n",
    "    SatelliteGenerator는 tf.keras.utils.Sequence를 상속받습니다.\n",
    "    '''\n",
    "    def __init__(self, \n",
    "                 filepath,\n",
    "                 x_path,\n",
    "                 y_path,\n",
    "                 batch_size=8,\n",
    "                 augmentation=None, \n",
    "                 preprocessing=None,\n",
    "                 is_train=True):\n",
    "        \n",
    "        self.filepath = filepath\n",
    "        self.x_path = x_path\n",
    "        self.y_path = y_path\n",
    "        \n",
    "        self.augmentation = augmentation\n",
    "        self.preprocessing = preprocessing\n",
    "\n",
    "        self.size = 0\n",
    "        with h5py.File(self.filepath, 'r') as f:\n",
    "            self.size = f[x_path].shape[0]\n",
    "            \n",
    "        self.batch_size = batch_size\n",
    "        self.is_train = is_train\n",
    "    \n",
    "    def __len__(self):\n",
    "        return math.ceil(self.size / self.batch_size)\n",
    "\n",
    "    def __getitem__(self, index):\n",
    "        with h5py.File(self.filepath, 'r') as f:\n",
    "            images = f[self.x_path][index*self.batch_size : (index + 1)*self.batch_size]\n",
    "            masks = f[self.y_path][index*self.batch_size : (index + 1)*self.batch_size]\n",
    "            res = [(img, mask) for img, mask in zip(images, masks)]\n",
    "\n",
    "            if self.augmentation:\n",
    "                res = [self.augmentation(image=img, mask=mask) for img, mask in res]\n",
    "                res = [(r['image'], r['mask']) for r in res]\n",
    "            if self.preprocessing:\n",
    "                res = [self.preprocessing(image=img, mask=mask) for img, mask in res]\n",
    "                res = [(r['image'], r['mask']) for r in res]\n",
    "            \n",
    "            images = np.array([img for img, _ in res ])\n",
    "            masks = np.array([mask for _, mask in res ])\n",
    "            \n",
    "            return images, masks\n",
    "\n",
    "    def on_epoch_end(self):\n",
    "        # 한 epoch가 끝나면 실행되는 함수입니다. 학습중인 경우에 순서를 random shuffle하도록 적용한 것을 볼 수 있습니다.\n",
    "        self.indexes = np.arange(self.size)\n",
    "        if self.is_train == True :\n",
    "            np.random.shuffle(self.indexes)\n",
    "        \n",
    "        return self.indexes"
   ]
  },
  {
   "cell_type": "code",
   "execution_count": 3,
   "metadata": {
    "execution": {
     "iopub.execute_input": "2021-06-14T05:49:23.690451Z",
     "iopub.status.busy": "2021-06-14T05:49:23.690253Z",
     "iopub.status.idle": "2021-06-14T05:49:23.927324Z",
     "shell.execute_reply": "2021-06-14T05:49:23.926461Z",
     "shell.execute_reply.started": "2021-06-14T05:49:23.690427Z"
    }
   },
   "outputs": [
    {
     "ename": "NameError",
     "evalue": "name 'SatelliteGenerator' is not defined",
     "output_type": "error",
     "traceback": [
      "\u001b[0;31m---------------------------------------------------------------------------\u001b[0m",
      "\u001b[0;31mNameError\u001b[0m                                 Traceback (most recent call last)",
      "\u001b[0;32m<ipython-input-3-064d8c302986>\u001b[0m in \u001b[0;36m<module>\u001b[0;34m\u001b[0m\n\u001b[1;32m      1\u001b[0m \u001b[0;31m# Lets look at augmented data we have\u001b[0m\u001b[0;34m\u001b[0m\u001b[0;34m\u001b[0m\u001b[0;34m\u001b[0m\u001b[0m\n\u001b[0;32m----> 2\u001b[0;31m dataset = SatelliteGenerator(\n\u001b[0m\u001b[1;32m      3\u001b[0m     \u001b[0mFILE_PATH\u001b[0m\u001b[0;34m,\u001b[0m\u001b[0;34m\u001b[0m\u001b[0;34m\u001b[0m\u001b[0m\n\u001b[1;32m      4\u001b[0m     \u001b[0mVAL_SPLIT_IMG_PATH\u001b[0m\u001b[0;34m,\u001b[0m\u001b[0;34m\u001b[0m\u001b[0;34m\u001b[0m\u001b[0m\n\u001b[1;32m      5\u001b[0m     \u001b[0mVAL_SPLIT_LABEL_PATH\u001b[0m\u001b[0;34m,\u001b[0m\u001b[0;34m\u001b[0m\u001b[0;34m\u001b[0m\u001b[0m\n",
      "\u001b[0;31mNameError\u001b[0m: name 'SatelliteGenerator' is not defined"
     ]
    }
   ],
   "source": [
    "# Lets look at augmented data we have\n",
    "dataset = SatelliteGenerator(\n",
    "    FILE_PATH,\n",
    "    VAL_SPLIT_IMG_PATH,\n",
    "    VAL_SPLIT_LABEL_PATH, \n",
    "    augmentation=get_training_augmentation()\n",
    ")\n",
    "\n",
    "dataset_aug = SatelliteGenerator(\n",
    "    FILE_PATH,\n",
    "    VAL_SPLIT_IMG_PATH,\n",
    "    VAL_SPLIT_LABEL_PATH, \n",
    "    augmentation=get_training_augmentation())\n",
    "\n",
    "preprocess_input = sm.get_preprocessing('efficientnetb3')\n",
    "dataset_aug_pre = SatelliteGenerator(\n",
    "    FILE_PATH,\n",
    "    VAL_SPLIT_IMG_PATH,\n",
    "    VAL_SPLIT_LABEL_PATH,\n",
    "    augmentation=get_training_augmentation(),\n",
    "    preprocessing=get_preprocessing(preprocess_input)\n",
    ")\n",
    "\n",
    "idx = 10\n",
    "image, mask = dataset[idx] # get some sample\n",
    "image_aug, mask_aug = dataset_aug[idx]\n",
    "image_aug_pre, mask_aug_pre = dataset_aug_pre[idx]\n",
    "\n",
    "\n",
    "visualize(\n",
    "    image=image[0], \n",
    "    augmentation=image_aug[0],\n",
    "    augmentation_and_preprocessing=denormalize(image_aug_pre[0])\n",
    ")\n",
    "\n",
    "visualize(\n",
    "    building_mask=mask[0],\n",
    "    augmentation=mask_aug[0],\n",
    "    augmentation_and_preprocessing=mask_aug_pre[0]\n",
    ")"
   ]
  },
  {
   "cell_type": "code",
   "execution_count": null,
   "metadata": {},
   "outputs": [],
   "source": []
  },
  {
   "cell_type": "code",
   "execution_count": null,
   "metadata": {},
   "outputs": [],
   "source": []
  },
  {
   "cell_type": "code",
   "execution_count": null,
   "metadata": {},
   "outputs": [],
   "source": []
  },
  {
   "cell_type": "code",
   "execution_count": null,
   "metadata": {},
   "outputs": [],
   "source": []
  },
  {
   "cell_type": "code",
   "execution_count": null,
   "metadata": {},
   "outputs": [],
   "source": []
  },
  {
   "cell_type": "code",
   "execution_count": null,
   "metadata": {},
   "outputs": [],
   "source": []
  },
  {
   "cell_type": "code",
   "execution_count": null,
   "metadata": {},
   "outputs": [],
   "source": []
  }
 ],
 "metadata": {
  "kernelspec": {
   "display_name": "aiffel",
   "language": "python",
   "name": "aiffel"
  },
  "language_info": {
   "codemirror_mode": {
    "name": "ipython",
    "version": 3
   },
   "file_extension": ".py",
   "mimetype": "text/x-python",
   "name": "python",
   "nbconvert_exporter": "python",
   "pygments_lexer": "ipython3",
   "version": "3.7.10"
  }
 },
 "nbformat": 4,
 "nbformat_minor": 4
}
